{
 "cells": [
  {
   "cell_type": "code",
   "execution_count": null,
   "id": "490a5f24",
   "metadata": {},
   "outputs": [],
   "source": [
    "import pandas as pd\n",
    "val  = pd.read_csv('data/val.csv')\n",
    "train = pd.read_csv('data/train.csv')\n",
    "test = pd.read_csv('data/test.csv')\n",
    "\n",
    "data = pd.concat([train, val, test], ignore_index=True)\n",
    "\n",
    "data = data.groupby(['prompt_id','prompt']).count().reset_index()\n",
    "\n",
    "data = data[['prompt_id', 'prompt']].copy()"
   ]
  },
  {
   "cell_type": "markdown",
   "id": "ee671b16",
   "metadata": {},
   "source": [
    "# sentence transformer"
   ]
  },
  {
   "cell_type": "code",
   "execution_count": 23,
   "id": "fec2dfb7",
   "metadata": {},
   "outputs": [
    {
     "name": "stderr",
     "output_type": "stream",
     "text": [
      "100%|██████████| 140/140 [00:44<00:00,  3.13it/s]\n"
     ]
    },
    {
     "name": "stdout",
     "output_type": "stream",
     "text": [
      "Saved 35673 embeddings to embeddings/prompt_id_to_embedding_sentence-transformer.json\n"
     ]
    }
   ],
   "source": [
    "import os\n",
    "import json\n",
    "import pandas as pd\n",
    "from sentence_transformers import SentenceTransformer\n",
    "from tqdm import tqdm\n",
    "\n",
    "model_name = \"all-mpnet-base-v2\"\n",
    "model = SentenceTransformer(model_name)\n",
    "batch_size = 256\n",
    "\n",
    "# Create output directory\n",
    "os.makedirs(\"embeddings\", exist_ok=True)\n",
    "\n",
    "# Prepare dict to hold {prompt_id: embedding}\n",
    "id_to_embedding = {}\n",
    "\n",
    "# Batch encode\n",
    "for i in tqdm(range(0, len(data), batch_size)):\n",
    "    batch_df = data.iloc[i:i+batch_size]\n",
    "    prompts = batch_df[\"prompt\"].tolist()\n",
    "    ids = batch_df[\"prompt_id\"].tolist()\n",
    "    embeddings = model.encode(prompts, convert_to_numpy=True).tolist()\n",
    "    \n",
    "    for pid, emb in zip(ids, embeddings):\n",
    "        id_to_embedding[str(pid)] = emb  # str() ensures JSON-safe keys\n",
    "\n",
    "# Save to JSON file\n",
    "output_path = os.path.join(\"embeddings\", \"prompt_id_to_embedding_sentence-transformer.json\")\n",
    "with open(output_path, \"w\") as f:\n",
    "    json.dump(id_to_embedding, f)\n",
    "\n",
    "print(f\"Saved {len(id_to_embedding)} embeddings to {output_path}\")\n"
   ]
  },
  {
   "cell_type": "code",
   "execution_count": 7,
   "id": "fb11553b",
   "metadata": {},
   "outputs": [
    {
     "data": {
      "text/plain": [
       "35673"
      ]
     },
     "execution_count": 7,
     "metadata": {},
     "output_type": "execute_result"
    }
   ],
   "source": [
    "import json\n",
    "test = json.load(open(\"embeddings/sentence-transformer.json\", \"r\"))\n",
    "\n",
    "len(test)"
   ]
  },
  {
   "cell_type": "code",
   "execution_count": 8,
   "id": "7687eea8",
   "metadata": {},
   "outputs": [
    {
     "data": {
      "text/plain": [
       "768"
      ]
     },
     "execution_count": 8,
     "metadata": {},
     "output_type": "execute_result"
    }
   ],
   "source": [
    "len(test['0'])"
   ]
  },
  {
   "cell_type": "markdown",
   "id": "f6b14d9d",
   "metadata": {},
   "source": [
    "# modernbert"
   ]
  },
  {
   "cell_type": "code",
   "execution_count": 4,
   "id": "36641611",
   "metadata": {},
   "outputs": [
    {
     "name": "stderr",
     "output_type": "stream",
     "text": [
      "Encoding with ModernBERT [CLS]: 100%|██████████| 35673/35673 [05:29<00:00, 108.24it/s]\n"
     ]
    },
    {
     "name": "stdout",
     "output_type": "stream",
     "text": [
      "Saved 35673 embeddings to embeddings/modern-bert.json\n"
     ]
    }
   ],
   "source": [
    "import os, json, torch\n",
    "from tqdm import tqdm\n",
    "from transformers import AutoTokenizer, AutoModel\n",
    "\n",
    "# Perf knobs\n",
    "torch.set_float32_matmul_precision(\"high\")\n",
    "torch.backends.cuda.matmul.allow_tf32 = True\n",
    "torch.backends.cudnn.allow_tf32 = True\n",
    "\n",
    "device = torch.device(\"cuda\" if torch.cuda.is_available() else \"cpu\")\n",
    "\n",
    "model_name = \"answerdotai/ModernBERT-large\"\n",
    "tokenizer = AutoTokenizer.from_pretrained(model_name, use_fast=True)\n",
    "model = AutoModel.from_pretrained(model_name).to(device).eval()\n",
    "\n",
    "os.makedirs(\"embeddings\", exist_ok=True)\n",
    "id_to_embedding = {}\n",
    "\n",
    "# assume `data` is a dict: {\"prompt_id\": [...], \"prompt\": [...]}\n",
    "n = len(data[\"prompt\"])\n",
    "with torch.inference_mode():\n",
    "    for prompt_id, prompt in tqdm(\n",
    "        zip(data[\"prompt_id\"], data[\"prompt\"]),\n",
    "        total=n, desc=\"Encoding with ModernBERT [CLS]\"\n",
    "    ):\n",
    "        enc = tokenizer(prompt, return_tensors=\"pt\", truncation=True)\n",
    "        enc = {k: v.to(device) for k, v in enc.items()}\n",
    "        out = model(**enc)\n",
    "        cls = out.last_hidden_state[:, 0, :]          # <s>/[CLS] position\n",
    "        id_to_embedding[str(prompt_id)] = cls.squeeze(0).cpu().tolist()\n",
    "\n",
    "out_path = os.path.join(\"embeddings\", \"modern-bert.json\")\n",
    "with open(out_path, \"w\") as f:\n",
    "    json.dump(id_to_embedding, f)\n",
    "print(f\"Saved {len(id_to_embedding)} embeddings to {out_path}\")\n"
   ]
  },
  {
   "cell_type": "code",
   "execution_count": 5,
   "id": "f2ba6f12",
   "metadata": {},
   "outputs": [
    {
     "data": {
      "text/plain": [
       "35673"
      ]
     },
     "execution_count": 5,
     "metadata": {},
     "output_type": "execute_result"
    }
   ],
   "source": [
    "import json\n",
    "test = json.load(open(\"embeddings/modern-bert.json\", \"r\"))\n",
    "\n",
    "len(test)"
   ]
  },
  {
   "cell_type": "code",
   "execution_count": 6,
   "id": "b4ed296d",
   "metadata": {},
   "outputs": [
    {
     "data": {
      "text/plain": [
       "1024"
      ]
     },
     "execution_count": 6,
     "metadata": {},
     "output_type": "execute_result"
    }
   ],
   "source": [
    "len(test['0'])"
   ]
  }
 ],
 "metadata": {
  "kernelspec": {
   "display_name": "imsitu",
   "language": "python",
   "name": "python3"
  },
  "language_info": {
   "codemirror_mode": {
    "name": "ipython",
    "version": 3
   },
   "file_extension": ".py",
   "mimetype": "text/x-python",
   "name": "python",
   "nbconvert_exporter": "python",
   "pygments_lexer": "ipython3",
   "version": "3.12.5"
  }
 },
 "nbformat": 4,
 "nbformat_minor": 5
}
